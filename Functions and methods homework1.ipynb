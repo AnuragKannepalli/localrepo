{
 "cells": [
  {
   "cell_type": "code",
   "execution_count": 5,
   "id": "8f4ca315",
   "metadata": {},
   "outputs": [],
   "source": [
    "def vol(rad):\n",
    "    return float((4/3)*(3.14)*(rad*rad*rad))"
   ]
  },
  {
   "cell_type": "code",
   "execution_count": 6,
   "id": "52356707",
   "metadata": {},
   "outputs": [
    {
     "data": {
      "text/plain": [
       "33.49333333333333"
      ]
     },
     "execution_count": 6,
     "metadata": {},
     "output_type": "execute_result"
    }
   ],
   "source": [
    "vol(2)"
   ]
  },
  {
   "cell_type": "code",
   "execution_count": 13,
   "id": "eaf0c807",
   "metadata": {},
   "outputs": [],
   "source": [
    "def ran_check(num,low,high):\n",
    "    if num>low and num<high:\n",
    "        return(num,\"is in range between {} and {}\".format(low,high))"
   ]
  },
  {
   "cell_type": "code",
   "execution_count": 17,
   "id": "0481f949",
   "metadata": {},
   "outputs": [
    {
     "data": {
      "text/plain": [
       "'5 is in range between 2 and 7'"
      ]
     },
     "execution_count": 17,
     "metadata": {},
     "output_type": "execute_result"
    }
   ],
   "source": [
    "ran_check(5,2,7)"
   ]
  },
  {
   "cell_type": "code",
   "execution_count": 18,
   "id": "aee240d1",
   "metadata": {},
   "outputs": [],
   "source": [
    "def ran_check(num,low,high):\n",
    "    if num>low and num<high:\n",
    "        return(f'{num} is in range between {low} and {high}')"
   ]
  },
  {
   "cell_type": "code",
   "execution_count": 21,
   "id": "2fc3a77b",
   "metadata": {},
   "outputs": [
    {
     "data": {
      "text/plain": [
       "True"
      ]
     },
     "execution_count": 21,
     "metadata": {},
     "output_type": "execute_result"
    }
   ],
   "source": [
    "ran_check(3,2,5)"
   ]
  },
  {
   "cell_type": "code",
   "execution_count": 20,
   "id": "7a2de5a2",
   "metadata": {},
   "outputs": [],
   "source": [
    "def ran_check(num,low,high):\n",
    "    if num>low and num<high:\n",
    "        return True"
   ]
  },
  {
   "cell_type": "code",
   "execution_count": 59,
   "id": "dd2ffc72",
   "metadata": {},
   "outputs": [],
   "source": [
    "def up_low(s):\n",
    "    flag=0\n",
    "    count=0\n",
    "    for a in s:\n",
    "        \n",
    "        #print(a,end=' ')\n",
    "        if a.isupper():\n",
    "            flag +=1\n",
    "        elif a.islower():\n",
    "            count +=1\n",
    "    print()\n",
    "    print('original string: ',s)\n",
    "    print('No. of Upper case characters: ',flag)\n",
    "    print('No. of lower case characters: ',count)\n",
    "    "
   ]
  },
  {
   "cell_type": "code",
   "execution_count": 60,
   "id": "140a8dad",
   "metadata": {},
   "outputs": [
    {
     "name": "stdout",
     "output_type": "stream",
     "text": [
      "\n",
      "original string:  Hello Mr. Rogers, how are you this fine Tuesday?\n",
      "No. of Upper case characters:  4\n",
      "No. of lower case characters:  33\n"
     ]
    }
   ],
   "source": [
    "up_low('Hello Mr. Rogers, how are you this fine Tuesday?')"
   ]
  },
  {
   "cell_type": "code",
   "execution_count": 61,
   "id": "1851ef2e",
   "metadata": {},
   "outputs": [],
   "source": [
    "def unique_list(lst):\n",
    "    return set(lst)"
   ]
  },
  {
   "cell_type": "code",
   "execution_count": 62,
   "id": "6c4db6b8",
   "metadata": {},
   "outputs": [
    {
     "data": {
      "text/plain": [
       "{1, 2, 3, 4, 5, 6}"
      ]
     },
     "execution_count": 62,
     "metadata": {},
     "output_type": "execute_result"
    }
   ],
   "source": [
    "unique_list([1,1,1,2,3,2,3,4,4,5,5,6])"
   ]
  },
  {
   "cell_type": "code",
   "execution_count": 65,
   "id": "ee094973",
   "metadata": {},
   "outputs": [],
   "source": [
    "def multiply(numbers):\n",
    "    j=1\n",
    "    for i in numbers:\n",
    "        j=j*i\n",
    "    return j"
   ]
  },
  {
   "cell_type": "code",
   "execution_count": 66,
   "id": "e81936dc",
   "metadata": {},
   "outputs": [
    {
     "data": {
      "text/plain": [
       "-24"
      ]
     },
     "execution_count": 66,
     "metadata": {},
     "output_type": "execute_result"
    }
   ],
   "source": [
    "multiply([1,2,3,-4])"
   ]
  },
  {
   "cell_type": "code",
   "execution_count": 8,
   "id": "df992473",
   "metadata": {},
   "outputs": [],
   "source": [
    "def palindrome(s):\n",
    "    p=s[::-1]\n",
    "    s=s.replace(' ','')\n",
    "    if s==p:\n",
    "        return True\n",
    "    else:\n",
    "        return False"
   ]
  },
  {
   "cell_type": "code",
   "execution_count": 9,
   "id": "f348bd7b",
   "metadata": {},
   "outputs": [
    {
     "data": {
      "text/plain": [
       "True"
      ]
     },
     "execution_count": 9,
     "metadata": {},
     "output_type": "execute_result"
    }
   ],
   "source": [
    "palindrome('nursesrun')"
   ]
  },
  {
   "cell_type": "code",
   "execution_count": 14,
   "id": "52cab2db",
   "metadata": {},
   "outputs": [],
   "source": [
    "import string\n",
    "def ispangram(str1, alphabet=string.ascii_lowercase):\n",
    "    alphaset = set(alphabet)\n",
    "    \n",
    "    str1=str1.replace(' ','')\n",
    "    \n",
    "    str1=set(str1.lower())\n",
    "    \n",
    "    return str1==alphaset"
   ]
  },
  {
   "cell_type": "code",
   "execution_count": 15,
   "id": "0ea8cd2a",
   "metadata": {},
   "outputs": [
    {
     "data": {
      "text/plain": [
       "True"
      ]
     },
     "execution_count": 15,
     "metadata": {},
     "output_type": "execute_result"
    }
   ],
   "source": [
    "ispangram('The quick brown fox jumps over the lazy dog')"
   ]
  },
  {
   "cell_type": "code",
   "execution_count": 30,
   "id": "32258743",
   "metadata": {},
   "outputs": [],
   "source": [
    "def myfun1(str2):\n",
    "    str2=str2.replace(' ','')\n",
    "    str3=set(str2.lower())\n",
    "    str4=set('abcdefghijklmnopqrstuvwxyz')\n",
    "    return str3==str4"
   ]
  },
  {
   "cell_type": "code",
   "execution_count": 31,
   "id": "1f41705c",
   "metadata": {},
   "outputs": [
    {
     "data": {
      "text/plain": [
       "True"
      ]
     },
     "execution_count": 31,
     "metadata": {},
     "output_type": "execute_result"
    }
   ],
   "source": [
    "myfun1('The quick brown fox jumps over the lazy dog')"
   ]
  },
  {
   "cell_type": "code",
   "execution_count": null,
   "id": "7942d421",
   "metadata": {},
   "outputs": [],
   "source": []
  }
 ],
 "metadata": {
  "kernelspec": {
   "display_name": "Python 3 (ipykernel)",
   "language": "python",
   "name": "python3"
  },
  "language_info": {
   "codemirror_mode": {
    "name": "ipython",
    "version": 3
   },
   "file_extension": ".py",
   "mimetype": "text/x-python",
   "name": "python",
   "nbconvert_exporter": "python",
   "pygments_lexer": "ipython3",
   "version": "3.11.5"
  }
 },
 "nbformat": 4,
 "nbformat_minor": 5
}
