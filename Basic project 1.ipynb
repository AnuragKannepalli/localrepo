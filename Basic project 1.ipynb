{
 "cells": [
  {
   "cell_type": "code",
   "execution_count": 1,
   "id": "7d988682",
   "metadata": {},
   "outputs": [],
   "source": [
    "game_list = [0,1,2]"
   ]
  },
  {
   "cell_type": "code",
   "execution_count": 2,
   "id": "eca2a27d",
   "metadata": {},
   "outputs": [],
   "source": [
    "def display_game(game_list):\n",
    "    print(\"Here is the current list \")\n",
    "    print(game_list)"
   ]
  },
  {
   "cell_type": "code",
   "execution_count": 3,
   "id": "3ef88a97",
   "metadata": {},
   "outputs": [],
   "source": [
    "def position_choice():\n",
    "    choice = 'Wrong'\n",
    "    \n",
    "    while choice not in ['0','1','2']:\n",
    "        \n",
    "        choice = input('Pick a position to replace (0,1,2): ')\n",
    "        \n",
    "        if choice not in ['0','1','2']:\n",
    "            \n",
    "            print('Sorry, but you did not choose a valid position(0,1,2)')\n",
    "            \n",
    "    return(int(choice))\n",
    "        "
   ]
  },
  {
   "cell_type": "code",
   "execution_count": 4,
   "id": "81e70eaa",
   "metadata": {},
   "outputs": [],
   "source": [
    "def replacement_choice(game_list,position):\n",
    "    \n",
    "    user_placement = input('Type a string to replace in that position: ')\n",
    "    \n",
    "    game_list[position] = user_placement\n",
    "    \n",
    "    return game_list"
   ]
  },
  {
   "cell_type": "code",
   "execution_count": 7,
   "id": "828abcd5",
   "metadata": {},
   "outputs": [],
   "source": [
    "def gameon_choice():\n",
    "    \n",
    "    choice='Wrong'\n",
    "    \n",
    "    while choice not in ['Y','N']:\n",
    "        \n",
    "        choice = input(\"Would you like to continue playing? Y or N \")\n",
    "        \n",
    "        if choice not in ['Y','N']:\n",
    "            \n",
    "            print('Sorry, I didnt understand. Please make sure to choose Y or n.')\n",
    "            \n",
    "            \n",
    "    if choice=='Y':\n",
    "            return True\n",
    "    else:\n",
    "            return False"
   ]
  },
  {
   "cell_type": "code",
   "execution_count": 8,
   "id": "b0fc8c7b",
   "metadata": {},
   "outputs": [
    {
     "name": "stdout",
     "output_type": "stream",
     "text": [
      "Here is the current list \n",
      "[0, 1, 2]\n",
      "Pick a position to replace (0,1,2): 0\n",
      "Type a string to replace in that position: hi\n",
      "Here is the current list \n",
      "['hi', 1, 2]\n",
      "Would you like to continue playing? Y or N o\n",
      "Sorry, I didnt understand. Please make sure to choose Y or n.\n",
      "Would you like to continue playing? Y or N Y\n",
      "Here is the current list \n",
      "['hi', 1, 2]\n",
      "Pick a position to replace (0,1,2): 1\n",
      "Type a string to replace in that position: Anu\n",
      "Here is the current list \n",
      "['hi', 'Anu', 2]\n",
      "Would you like to continue playing? Y or N Y\n",
      "Here is the current list \n",
      "['hi', 'Anu', 2]\n",
      "Pick a position to replace (0,1,2): 2\n",
      "Type a string to replace in that position: Rag\n",
      "Here is the current list \n",
      "['hi', 'Anu', 'Rag']\n",
      "Would you like to continue playing? Y or N N\n"
     ]
    }
   ],
   "source": [
    "game_on = True\n",
    "\n",
    "game_list = [0,1,2]\n",
    "\n",
    "while game_on:\n",
    "    \n",
    "    display_game(game_list)\n",
    "    \n",
    "    position = position_choice()\n",
    "    \n",
    "    game_list = replacement_choice(game_list,position)\n",
    "    \n",
    "    display_game(game_list)\n",
    "    \n",
    "    game_on = gameon_choice()"
   ]
  },
  {
   "cell_type": "code",
   "execution_count": null,
   "id": "bbe62c4a",
   "metadata": {},
   "outputs": [],
   "source": []
  }
 ],
 "metadata": {
  "kernelspec": {
   "display_name": "Python 3 (ipykernel)",
   "language": "python",
   "name": "python3"
  },
  "language_info": {
   "codemirror_mode": {
    "name": "ipython",
    "version": 3
   },
   "file_extension": ".py",
   "mimetype": "text/x-python",
   "name": "python",
   "nbconvert_exporter": "python",
   "pygments_lexer": "ipython3",
   "version": "3.11.5"
  }
 },
 "nbformat": 4,
 "nbformat_minor": 5
}
