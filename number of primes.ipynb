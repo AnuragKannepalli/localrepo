{
 "cells": [
  {
   "cell_type": "code",
   "execution_count": 4,
   "id": "a049d04a",
   "metadata": {},
   "outputs": [
    {
     "name": "stdout",
     "output_type": "stream",
     "text": [
      "Enter the start number: 0\n",
      "Enter the last number: 10\n",
      "prime number in range 0 to 10\n",
      "2 3 5 7 "
     ]
    }
   ],
   "source": [
    "start=int(input(\"Enter the start number: \"))\n",
    "end=int(input(\"Enter the last number: \"))\n",
    "print(\"prime number in range\",start,\"to\",end)\n",
    "if start==1 or start==0:\n",
    "    start =2\n",
    "for i in range(start,end+1):\n",
    "    flag=0\n",
    "    for j in range(2,i):\n",
    "        if(i%j==0):\n",
    "            flag=1\n",
    "            break\n",
    "    \n",
    "    if(flag==0):\n",
    "        print(i,end=' ')\n",
    "        "
   ]
  },
  {
   "cell_type": "code",
   "execution_count": 1,
   "id": "87f50114",
   "metadata": {},
   "outputs": [
    {
     "name": "stdout",
     "output_type": "stream",
     "text": [
      "2 3 5 7 11 13 17 19 23 29 31 37 41 43 47 53 59 61 67 71 73 79 83 89 97 Total number of primes in bw 0-100:  25\n"
     ]
    }
   ],
   "source": [
    "n=100\n",
    "count=0\n",
    "for i in range(2,n+1):\n",
    "    flag=0\n",
    "    for j in range(2,i):\n",
    "        if(i%j==0):\n",
    "            flag=1\n",
    "            break\n",
    "    if(flag==0):\n",
    "        count +=1\n",
    "        print(i,end=' ')\n",
    "print('Total number of primes in bw 0-100: ',count)"
   ]
  },
  {
   "cell_type": "code",
   "execution_count": null,
   "id": "7a06d40d",
   "metadata": {},
   "outputs": [],
   "source": []
  }
 ],
 "metadata": {
  "kernelspec": {
   "display_name": "Python 3 (ipykernel)",
   "language": "python",
   "name": "python3"
  },
  "language_info": {
   "codemirror_mode": {
    "name": "ipython",
    "version": 3
   },
   "file_extension": ".py",
   "mimetype": "text/x-python",
   "name": "python",
   "nbconvert_exporter": "python",
   "pygments_lexer": "ipython3",
   "version": "3.11.5"
  }
 },
 "nbformat": 4,
 "nbformat_minor": 5
}
