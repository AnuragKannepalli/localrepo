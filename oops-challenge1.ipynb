{
 "cells": [
  {
   "cell_type": "code",
   "execution_count": 26,
   "id": "9c54bc97",
   "metadata": {},
   "outputs": [],
   "source": [
    "class Account:\n",
    "    \n",
    "    def __init__(self,owner,balance):\n",
    "        self.owner = owner\n",
    "        self.balance = balance\n",
    "        \n",
    "    def __str__(self):\n",
    "        return \"Owner: %s, Balance: %s\" %(self.owner,self.balance)\n",
    "    def deposit(self,amount):\n",
    "        self.balance= self.balance+amount\n",
    "        print('Owner: {},Balance: {}'.format(self.owner,self.balance))\n",
    "        return \"Deposit Accepted\"\n",
    "        \n",
    "    def withdraw(self,amount_withdraw):\n",
    "        if amount_withdraw<=self.balance:\n",
    "            self.balance=self.balance-amount_withdraw\n",
    "            return \"Withdraw accepted\"\n",
    "        \n",
    "        else:\n",
    "            return \"Amount exceeded\"\n",
    "    "
   ]
  },
  {
   "cell_type": "code",
   "execution_count": 27,
   "id": "1d97e9c6",
   "metadata": {},
   "outputs": [],
   "source": [
    "a=Account('Anurag',500)"
   ]
  },
  {
   "cell_type": "code",
   "execution_count": 28,
   "id": "c3ff34e2",
   "metadata": {},
   "outputs": [
    {
     "name": "stdout",
     "output_type": "stream",
     "text": [
      "Owner: Anurag, Balance: 500\n"
     ]
    }
   ],
   "source": [
    "print(a)"
   ]
  },
  {
   "cell_type": "code",
   "execution_count": 29,
   "id": "871a6144",
   "metadata": {},
   "outputs": [
    {
     "name": "stdout",
     "output_type": "stream",
     "text": [
      "Owner: Anurag,Balance: 700\n"
     ]
    },
    {
     "data": {
      "text/plain": [
       "'Deposit Accepted'"
      ]
     },
     "execution_count": 29,
     "metadata": {},
     "output_type": "execute_result"
    }
   ],
   "source": [
    "a.deposit(200)"
   ]
  },
  {
   "cell_type": "code",
   "execution_count": 18,
   "id": "6dde13e6",
   "metadata": {},
   "outputs": [
    {
     "data": {
      "text/plain": [
       "'Withdraw accepted'"
      ]
     },
     "execution_count": 18,
     "metadata": {},
     "output_type": "execute_result"
    }
   ],
   "source": [
    "a.withdraw(600)"
   ]
  },
  {
   "cell_type": "code",
   "execution_count": 19,
   "id": "87d42126",
   "metadata": {},
   "outputs": [
    {
     "data": {
      "text/plain": [
       "'Amount exceeded'"
      ]
     },
     "execution_count": 19,
     "metadata": {},
     "output_type": "execute_result"
    }
   ],
   "source": [
    "a.withdraw(101)"
   ]
  },
  {
   "cell_type": "code",
   "execution_count": null,
   "id": "3d5b126d",
   "metadata": {},
   "outputs": [],
   "source": []
  }
 ],
 "metadata": {
  "kernelspec": {
   "display_name": "Python 3 (ipykernel)",
   "language": "python",
   "name": "python3"
  },
  "language_info": {
   "codemirror_mode": {
    "name": "ipython",
    "version": 3
   },
   "file_extension": ".py",
   "mimetype": "text/x-python",
   "name": "python",
   "nbconvert_exporter": "python",
   "pygments_lexer": "ipython3",
   "version": "3.11.5"
  }
 },
 "nbformat": 4,
 "nbformat_minor": 5
}
