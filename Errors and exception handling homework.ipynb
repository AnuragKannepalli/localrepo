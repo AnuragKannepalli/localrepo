{
 "cells": [
  {
   "cell_type": "code",
   "execution_count": 4,
   "id": "2a7d9b5e",
   "metadata": {},
   "outputs": [
    {
     "name": "stdout",
     "output_type": "stream",
     "text": [
      "str cannot be squared\n"
     ]
    }
   ],
   "source": [
    "\n",
    "    \n",
    "    try:\n",
    "        for i in['a','b','c']:\n",
    "            print(i**2)\n",
    "    except:\n",
    "        print(\"str cannot be squared\")\n",
    "        "
   ]
  },
  {
   "cell_type": "code",
   "execution_count": 5,
   "id": "42e6b720",
   "metadata": {},
   "outputs": [
    {
     "name": "stdout",
     "output_type": "stream",
     "text": [
      "denominator is zero\n",
      "Hey good bye\n"
     ]
    }
   ],
   "source": [
    "x=5\n",
    "y=0\n",
    "\n",
    "try:\n",
    "    z=x/y\n",
    "    \n",
    "except:\n",
    "    print(\"denominator is zero\")\n",
    "    \n",
    "finally:\n",
    "    print(\"Hey good bye\")"
   ]
  },
  {
   "cell_type": "code",
   "execution_count": 7,
   "id": "b3da1b66",
   "metadata": {},
   "outputs": [],
   "source": [
    "def ask():\n",
    "    while True:\n",
    "        \n",
    "        try:\n",
    "            a=int(input(\"Enter a number: \"))\n",
    "            #print(a**2)\n",
    "            b=a**2\n",
    "            \n",
    "        except:\n",
    "            print(\"An error occured! please try again\")\n",
    "            continue\n",
    "            \n",
    "        else:\n",
    "            print(\"Thank you, your number squared is: \",b)\n",
    "            break\n",
    "            \n",
    "        "
   ]
  },
  {
   "cell_type": "code",
   "execution_count": 8,
   "id": "1e9deacf",
   "metadata": {},
   "outputs": [
    {
     "name": "stdout",
     "output_type": "stream",
     "text": [
      "Enter a number: a\n",
      "An error occured! please try again\n",
      "Enter a number: 2\n",
      "Thank you, your number squared is:  4\n"
     ]
    }
   ],
   "source": [
    "ask()"
   ]
  },
  {
   "cell_type": "code",
   "execution_count": null,
   "id": "85d581c0",
   "metadata": {},
   "outputs": [],
   "source": []
  }
 ],
 "metadata": {
  "kernelspec": {
   "display_name": "Python 3 (ipykernel)",
   "language": "python",
   "name": "python3"
  },
  "language_info": {
   "codemirror_mode": {
    "name": "ipython",
    "version": 3
   },
   "file_extension": ".py",
   "mimetype": "text/x-python",
   "name": "python",
   "nbconvert_exporter": "python",
   "pygments_lexer": "ipython3",
   "version": "3.11.5"
  }
 },
 "nbformat": 4,
 "nbformat_minor": 5
}
