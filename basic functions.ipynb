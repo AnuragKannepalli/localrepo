{
 "cells": [
  {
   "cell_type": "code",
   "execution_count": 6,
   "id": "df68b699",
   "metadata": {},
   "outputs": [],
   "source": [
    "def say_hello():\n",
    "    print(\"hello\", end=\" \")\n",
    "    print(\"how\")\n",
    "    print('you')"
   ]
  },
  {
   "cell_type": "code",
   "execution_count": 7,
   "id": "1302f0da",
   "metadata": {},
   "outputs": [
    {
     "name": "stdout",
     "output_type": "stream",
     "text": [
      "hello how\n",
      "you\n"
     ]
    }
   ],
   "source": [
    "say_hello()"
   ]
  },
  {
   "cell_type": "code",
   "execution_count": 5,
   "id": "c415915a",
   "metadata": {},
   "outputs": [
    {
     "data": {
      "text/plain": [
       "<function __main__.say_hello()>"
      ]
     },
     "execution_count": 5,
     "metadata": {},
     "output_type": "execute_result"
    }
   ],
   "source": [
    "say_hello"
   ]
  },
  {
   "cell_type": "code",
   "execution_count": 17,
   "id": "6a8df48a",
   "metadata": {},
   "outputs": [],
   "source": [
    " def say_hello(name='sir'):\n",
    "        print(f'Hello {name}')"
   ]
  },
  {
   "cell_type": "code",
   "execution_count": 18,
   "id": "61ab2965",
   "metadata": {},
   "outputs": [
    {
     "name": "stdout",
     "output_type": "stream",
     "text": [
      "Hello sir\n"
     ]
    }
   ],
   "source": [
    "say_hello()"
   ]
  },
  {
   "cell_type": "code",
   "execution_count": 19,
   "id": "c39a70e3",
   "metadata": {},
   "outputs": [],
   "source": [
    "def add_num(num1,num2):\n",
    "    return num1+num2"
   ]
  },
  {
   "cell_type": "code",
   "execution_count": 21,
   "id": "d4b8f56e",
   "metadata": {},
   "outputs": [],
   "source": [
    "result=add_num(1,2)"
   ]
  },
  {
   "cell_type": "code",
   "execution_count": 22,
   "id": "91bc6b1c",
   "metadata": {},
   "outputs": [
    {
     "data": {
      "text/plain": [
       "3"
      ]
     },
     "execution_count": 22,
     "metadata": {},
     "output_type": "execute_result"
    }
   ],
   "source": [
    "result"
   ]
  },
  {
   "cell_type": "code",
   "execution_count": 23,
   "id": "9449b6d2",
   "metadata": {},
   "outputs": [],
   "source": [
    " def even_check(num):\n",
    "        result= num%2==0\n",
    "        return result"
   ]
  },
  {
   "cell_type": "code",
   "execution_count": 24,
   "id": "67c10533",
   "metadata": {},
   "outputs": [
    {
     "data": {
      "text/plain": [
       "False"
      ]
     },
     "execution_count": 24,
     "metadata": {},
     "output_type": "execute_result"
    }
   ],
   "source": [
    "even_check(5)"
   ]
  },
  {
   "cell_type": "code",
   "execution_count": 25,
   "id": "de628222",
   "metadata": {},
   "outputs": [
    {
     "data": {
      "text/plain": [
       "True"
      ]
     },
     "execution_count": 25,
     "metadata": {},
     "output_type": "execute_result"
    }
   ],
   "source": [
    "even_check(90)"
   ]
  },
  {
   "cell_type": "code",
   "execution_count": 26,
   "id": "5b0b8006",
   "metadata": {},
   "outputs": [],
   "source": [
    " def even_check(num):\n",
    "        return num%2==0\n",
    "        "
   ]
  },
  {
   "cell_type": "code",
   "execution_count": 27,
   "id": "9030c3cb",
   "metadata": {},
   "outputs": [
    {
     "data": {
      "text/plain": [
       "True"
      ]
     },
     "execution_count": 27,
     "metadata": {},
     "output_type": "execute_result"
    }
   ],
   "source": [
    "even_check(6)"
   ]
  },
  {
   "cell_type": "code",
   "execution_count": 30,
   "id": "997bbf67",
   "metadata": {},
   "outputs": [],
   "source": [
    "def chech_even_list(num_list):\n",
    "    \n",
    "    for number in num_list:\n",
    "        if number%2==0:\n",
    "            return True\n",
    "        else:\n",
    "            pass"
   ]
  },
  {
   "cell_type": "code",
   "execution_count": 31,
   "id": "c1775061",
   "metadata": {},
   "outputs": [],
   "source": [
    "num_list=[1,2,3,5,7]"
   ]
  },
  {
   "cell_type": "code",
   "execution_count": 32,
   "id": "3a63079a",
   "metadata": {},
   "outputs": [],
   "source": [
    "chech_even_list([1,3,5])"
   ]
  },
  {
   "cell_type": "code",
   "execution_count": 34,
   "id": "608a614e",
   "metadata": {},
   "outputs": [
    {
     "data": {
      "text/plain": [
       "True"
      ]
     },
     "execution_count": 34,
     "metadata": {},
     "output_type": "execute_result"
    }
   ],
   "source": [
    "chech_even_list([1,2,3])"
   ]
  },
  {
   "cell_type": "code",
   "execution_count": 38,
   "id": "752b6315",
   "metadata": {},
   "outputs": [],
   "source": [
    "def chech_even_list(num_list):\n",
    "    #return all the even numbers in a list\n",
    "    \n",
    "    #placeholder variables\n",
    "    even_list=[]\n",
    "    \n",
    "    for number in num_list:\n",
    "        if number%2==0:\n",
    "            even_list.append(number)\n",
    "            \n",
    "        else:\n",
    "            pass\n",
    "        \n",
    "    return even_list"
   ]
  },
  {
   "cell_type": "code",
   "execution_count": 39,
   "id": "7531191e",
   "metadata": {},
   "outputs": [
    {
     "data": {
      "text/plain": [
       "[2, 4]"
      ]
     },
     "execution_count": 39,
     "metadata": {},
     "output_type": "execute_result"
    }
   ],
   "source": [
    "chech_even_list([1,2,3,4])"
   ]
  },
  {
   "cell_type": "code",
   "execution_count": 43,
   "id": "4e115257",
   "metadata": {},
   "outputs": [],
   "source": [
    "work_hours = [(\"Kiran\",80),(\"Gaurav\",76),(\"Anurag\",78)]"
   ]
  },
  {
   "cell_type": "code",
   "execution_count": 46,
   "id": "6b65f66b",
   "metadata": {},
   "outputs": [],
   "source": [
    "def employee_check(work_hours):\n",
    "    \n",
    "    max_hours=0\n",
    "    employee_name=\"\"\n",
    "    \n",
    "    for employee,hours in work_hours:\n",
    "        if hours > max_hours:\n",
    "            max_hours= hours\n",
    "            employee_name=employee\n",
    "        else:\n",
    "            pass\n",
    "    return (employee_name, max_hours)"
   ]
  },
  {
   "cell_type": "code",
   "execution_count": 47,
   "id": "4d0962e3",
   "metadata": {},
   "outputs": [
    {
     "data": {
      "text/plain": [
       "('Kiran', 80)"
      ]
     },
     "execution_count": 47,
     "metadata": {},
     "output_type": "execute_result"
    }
   ],
   "source": [
    "employee_check(work_hours)"
   ]
  },
  {
   "cell_type": "code",
   "execution_count": 48,
   "id": "97ebd8c7",
   "metadata": {},
   "outputs": [],
   "source": [
    "name, hours = employee_check(work_hours)"
   ]
  },
  {
   "cell_type": "code",
   "execution_count": 49,
   "id": "14697f9f",
   "metadata": {},
   "outputs": [
    {
     "data": {
      "text/plain": [
       "'Kiran'"
      ]
     },
     "execution_count": 49,
     "metadata": {},
     "output_type": "execute_result"
    }
   ],
   "source": [
    "name"
   ]
  },
  {
   "cell_type": "code",
   "execution_count": null,
   "id": "182ca079",
   "metadata": {},
   "outputs": [],
   "source": []
  }
 ],
 "metadata": {
  "kernelspec": {
   "display_name": "Python 3 (ipykernel)",
   "language": "python",
   "name": "python3"
  },
  "language_info": {
   "codemirror_mode": {
    "name": "ipython",
    "version": 3
   },
   "file_extension": ".py",
   "mimetype": "text/x-python",
   "name": "python",
   "nbconvert_exporter": "python",
   "pygments_lexer": "ipython3",
   "version": "3.11.5"
  }
 },
 "nbformat": 4,
 "nbformat_minor": 5
}
