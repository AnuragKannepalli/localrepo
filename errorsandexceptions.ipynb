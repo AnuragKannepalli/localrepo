{
 "cells": [
  {
   "cell_type": "code",
   "execution_count": 2,
   "id": "5e37408a",
   "metadata": {},
   "outputs": [
    {
     "name": "stdout",
     "output_type": "stream",
     "text": [
      "enter aa\n",
      "enter on;y int\n",
      "12\n"
     ]
    }
   ],
   "source": [
    "try:\n",
    "    a = int(input(\"enter a\"))\n",
    "    b = a*6\n",
    "    \n",
    "except:\n",
    "    print(\"enter on;y int\")\n",
    "    \n",
    "finally:\n",
    "    print(b)"
   ]
  },
  {
   "cell_type": "code",
   "execution_count": 9,
   "id": "98d29e72",
   "metadata": {},
   "outputs": [
    {
     "name": "stdout",
     "output_type": "stream",
     "text": [
      "Error could not find\n",
      "always\n"
     ]
    }
   ],
   "source": [
    "try:\n",
    "    f = open('testfile','r')\n",
    "    f.write(\"Test write this\")\n",
    "    \n",
    "except:\n",
    "    print('Error could not find')\n",
    "    \n",
    "else:\n",
    "    print(\"Content created\")\n",
    "    print(f)\n",
    "    \n",
    "finally:\n",
    "    print(\"always\")"
   ]
  },
  {
   "cell_type": "code",
   "execution_count": null,
   "id": "1bda6bf0",
   "metadata": {},
   "outputs": [],
   "source": []
  }
 ],
 "metadata": {
  "kernelspec": {
   "display_name": "Python 3 (ipykernel)",
   "language": "python",
   "name": "python3"
  },
  "language_info": {
   "codemirror_mode": {
    "name": "ipython",
    "version": 3
   },
   "file_extension": ".py",
   "mimetype": "text/x-python",
   "name": "python",
   "nbconvert_exporter": "python",
   "pygments_lexer": "ipython3",
   "version": "3.11.5"
  }
 },
 "nbformat": 4,
 "nbformat_minor": 5
}
