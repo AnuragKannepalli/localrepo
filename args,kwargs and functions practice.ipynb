{
 "cells": [
  {
   "cell_type": "code",
   "execution_count": 1,
   "id": "fe724e85",
   "metadata": {},
   "outputs": [],
   "source": [
    "def my_func(*args):\n",
    "    return args"
   ]
  },
  {
   "cell_type": "code",
   "execution_count": 2,
   "id": "53728141",
   "metadata": {},
   "outputs": [
    {
     "data": {
      "text/plain": [
       "(1, 2, 33)"
      ]
     },
     "execution_count": 2,
     "metadata": {},
     "output_type": "execute_result"
    }
   ],
   "source": [
    "my_func(1,2,33)"
   ]
  },
  {
   "cell_type": "code",
   "execution_count": 9,
   "id": "8671afd1",
   "metadata": {},
   "outputs": [],
   "source": [
    "def my_kwargs(**kwargs):\n",
    "    if 'Fruits' in kwargs:\n",
    "        print('I love {}'.format(kwargs['Fruits']))\n",
    "    else:\n",
    "        pass"
   ]
  },
  {
   "cell_type": "code",
   "execution_count": 10,
   "id": "d31e76e6",
   "metadata": {},
   "outputs": [
    {
     "name": "stdout",
     "output_type": "stream",
     "text": [
      "I love apple\n"
     ]
    }
   ],
   "source": [
    "my_kwargs(Fruits='apple')"
   ]
  },
  {
   "cell_type": "code",
   "execution_count": 14,
   "id": "e80d94f0",
   "metadata": {},
   "outputs": [],
   "source": [
    "def my_fun(**kwargs):\n",
    "    if 'fruit' in kwargs:\n",
    "        print(f\"i like {kwargs['fruit']}\")\n",
    "    else:\n",
    "        pass"
   ]
  },
  {
   "cell_type": "code",
   "execution_count": 15,
   "id": "26824f4f",
   "metadata": {},
   "outputs": [
    {
     "name": "stdout",
     "output_type": "stream",
     "text": [
      "i like apple\n"
     ]
    }
   ],
   "source": [
    "my_fun(fruit='apple')"
   ]
  },
  {
   "cell_type": "code",
   "execution_count": 36,
   "id": "07ff1371",
   "metadata": {},
   "outputs": [],
   "source": [
    "def my_fun(*args,**kwargs):\n",
    "    if 'food' in kwargs:\n",
    "        print(\"i love eating {}\" .format(args[1]),(kwargs['food']))\n",
    "    else:\n",
    "        pass"
   ]
  },
  {
   "cell_type": "code",
   "execution_count": 37,
   "id": "43ab1b00",
   "metadata": {},
   "outputs": [
    {
     "name": "stdout",
     "output_type": "stream",
     "text": [
      "i love eating 2 eggs\n"
     ]
    }
   ],
   "source": [
    "my_fun(1,2,3,food='eggs')"
   ]
  },
  {
   "cell_type": "code",
   "execution_count": 46,
   "id": "7e500fc9",
   "metadata": {},
   "outputs": [],
   "source": [
    "def myfun(*args,**kwargs):\n",
    "    if 'food' in kwargs:\n",
    "        print(f\"I love {args[1]} and my favorite food is {kwargs['food']}\")\n",
    "            \n",
    "    else:\n",
    "        print(\"bye\")"
   ]
  },
  {
   "cell_type": "code",
   "execution_count": 47,
   "id": "cfbe95e2",
   "metadata": {},
   "outputs": [
    {
     "name": "stdout",
     "output_type": "stream",
     "text": [
      "I love food and my favorite food is burger\n"
     ]
    }
   ],
   "source": [
    "myfun('fruits','food',food='burger')"
   ]
  },
  {
   "cell_type": "code",
   "execution_count": 50,
   "id": "a8f4263a",
   "metadata": {},
   "outputs": [],
   "source": [
    "def myfunc(*args):\n",
    "    while args in int:\n",
    "        if args%2==0:\n",
    "            return(args)\n",
    "        else:\n",
    "            pass"
   ]
  },
  {
   "cell_type": "code",
   "execution_count": 51,
   "id": "da103065",
   "metadata": {},
   "outputs": [
    {
     "ename": "TypeError",
     "evalue": "argument of type 'type' is not iterable",
     "output_type": "error",
     "traceback": [
      "\u001b[1;31m---------------------------------------------------------------------------\u001b[0m",
      "\u001b[1;31mTypeError\u001b[0m                                 Traceback (most recent call last)",
      "Cell \u001b[1;32mIn[51], line 1\u001b[0m\n\u001b[1;32m----> 1\u001b[0m myfunc(\u001b[38;5;241m1\u001b[39m,\u001b[38;5;241m2\u001b[39m,\u001b[38;5;241m3\u001b[39m,\u001b[38;5;241m4\u001b[39m)\n",
      "Cell \u001b[1;32mIn[50], line 2\u001b[0m, in \u001b[0;36mmyfunc\u001b[1;34m(*args)\u001b[0m\n\u001b[0;32m      1\u001b[0m \u001b[38;5;28;01mdef\u001b[39;00m \u001b[38;5;21mmyfunc\u001b[39m(\u001b[38;5;241m*\u001b[39margs):\n\u001b[1;32m----> 2\u001b[0m     \u001b[38;5;28;01mwhile\u001b[39;00m args \u001b[38;5;129;01min\u001b[39;00m \u001b[38;5;28mint\u001b[39m:\n\u001b[0;32m      3\u001b[0m         \u001b[38;5;28;01mif\u001b[39;00m args\u001b[38;5;241m%\u001b[39m\u001b[38;5;241m2\u001b[39m\u001b[38;5;241m==\u001b[39m\u001b[38;5;241m0\u001b[39m:\n\u001b[0;32m      4\u001b[0m             \u001b[38;5;28;01mreturn\u001b[39;00m(args)\n",
      "\u001b[1;31mTypeError\u001b[0m: argument of type 'type' is not iterable"
     ]
    }
   ],
   "source": [
    "myfunc(1,2,3,4)"
   ]
  },
  {
   "cell_type": "code",
   "execution_count": 56,
   "id": "8355ffc0",
   "metadata": {},
   "outputs": [],
   "source": [
    "def myfunc(*args):\n",
    "    mylist=[]\n",
    "    for num in args:\n",
    "        if num%2==0:\n",
    "            mylist.append(num)\n",
    "    return mylist"
   ]
  },
  {
   "cell_type": "code",
   "execution_count": 57,
   "id": "a4e9638a",
   "metadata": {},
   "outputs": [
    {
     "data": {
      "text/plain": [
       "[2, 4]"
      ]
     },
     "execution_count": 57,
     "metadata": {},
     "output_type": "execute_result"
    }
   ],
   "source": [
    "myfunc(1,2,3,4)"
   ]
  },
  {
   "cell_type": "code",
   "execution_count": 54,
   "id": "87951ba6",
   "metadata": {},
   "outputs": [],
   "source": [
    "def myfunc(*args):\n",
    "    out = []\n",
    "    for num in args:\n",
    "        if num%2==0:\n",
    "            out.append(num)\n",
    "    return out"
   ]
  },
  {
   "cell_type": "code",
   "execution_count": 55,
   "id": "63545ef2",
   "metadata": {},
   "outputs": [
    {
     "data": {
      "text/plain": [
       "[2, 4]"
      ]
     },
     "execution_count": 55,
     "metadata": {},
     "output_type": "execute_result"
    }
   ],
   "source": [
    "myfunc(1,2,3,4)"
   ]
  },
  {
   "cell_type": "code",
   "execution_count": 58,
   "id": "6710b5a0",
   "metadata": {},
   "outputs": [],
   "source": [
    "def myfunc(a,b,c):\n",
    "    if a>b and a>c:\n",
    "        return a\n",
    "    elif b>a and b>c:\n",
    "        return b\n",
    "    else:\n",
    "        return c"
   ]
  },
  {
   "cell_type": "code",
   "execution_count": 59,
   "id": "da0e1cba",
   "metadata": {},
   "outputs": [
    {
     "data": {
      "text/plain": [
       "3"
      ]
     },
     "execution_count": 59,
     "metadata": {},
     "output_type": "execute_result"
    }
   ],
   "source": [
    "myfunc(1,2,3)"
   ]
  },
  {
   "cell_type": "code",
   "execution_count": 76,
   "id": "097bf0fb",
   "metadata": {},
   "outputs": [],
   "source": [
    "def sumlist(args):\n",
    "    print(sum(args))"
   ]
  },
  {
   "cell_type": "code",
   "execution_count": 77,
   "id": "f62510e3",
   "metadata": {},
   "outputs": [],
   "source": [
    "args=[8,2,3,0,7]"
   ]
  },
  {
   "cell_type": "code",
   "execution_count": 82,
   "id": "94c24c1c",
   "metadata": {},
   "outputs": [
    {
     "name": "stdout",
     "output_type": "stream",
     "text": [
      "20\n"
     ]
    }
   ],
   "source": [
    "sumlist(args)"
   ]
  },
  {
   "cell_type": "code",
   "execution_count": 79,
   "id": "7e2d53c1",
   "metadata": {},
   "outputs": [],
   "source": [
    "def sum(number):\n",
    "    tottal =0\n",
    "    for x in number:\n",
    "        tottal = tottal+x\n",
    "        \n",
    "    return tottal"
   ]
  },
  {
   "cell_type": "code",
   "execution_count": 80,
   "id": "b6571bc6",
   "metadata": {},
   "outputs": [],
   "source": [
    "number=[1,2,3]"
   ]
  },
  {
   "cell_type": "code",
   "execution_count": 81,
   "id": "89223be6",
   "metadata": {},
   "outputs": [
    {
     "data": {
      "text/plain": [
       "6"
      ]
     },
     "execution_count": 81,
     "metadata": {},
     "output_type": "execute_result"
    }
   ],
   "source": [
    "sum(number)"
   ]
  },
  {
   "cell_type": "code",
   "execution_count": 94,
   "id": "474c2be1",
   "metadata": {},
   "outputs": [],
   "source": [
    "def mul(num):\n",
    "    total=1\n",
    "    for x in num:\n",
    "        total=total*x\n",
    "    return total"
   ]
  },
  {
   "cell_type": "code",
   "execution_count": 95,
   "id": "15b0aae5",
   "metadata": {},
   "outputs": [],
   "source": [
    "num=[1,2,3,9]"
   ]
  },
  {
   "cell_type": "code",
   "execution_count": 96,
   "id": "8a15e160",
   "metadata": {},
   "outputs": [
    {
     "data": {
      "text/plain": [
       "54"
      ]
     },
     "execution_count": 96,
     "metadata": {},
     "output_type": "execute_result"
    }
   ],
   "source": [
    "mul(num)"
   ]
  },
  {
   "cell_type": "code",
   "execution_count": 114,
   "id": "45208839",
   "metadata": {},
   "outputs": [],
   "source": [
    "def rev(x):\n",
    "    x[::-1]\n",
    "    print(x)\n",
    "    "
   ]
  },
  {
   "cell_type": "code",
   "execution_count": 115,
   "id": "d65ea1c3",
   "metadata": {},
   "outputs": [],
   "source": [
    "x='abcd'[::-1]"
   ]
  },
  {
   "cell_type": "code",
   "execution_count": 116,
   "id": "0109b5e8",
   "metadata": {},
   "outputs": [
    {
     "data": {
      "text/plain": [
       "'dcba'"
      ]
     },
     "execution_count": 116,
     "metadata": {},
     "output_type": "execute_result"
    }
   ],
   "source": [
    "x"
   ]
  },
  {
   "cell_type": "code",
   "execution_count": 117,
   "id": "e99f38fb",
   "metadata": {},
   "outputs": [],
   "source": [
    "y='bcde'[::-1]"
   ]
  },
  {
   "cell_type": "code",
   "execution_count": 118,
   "id": "1cd7b3e9",
   "metadata": {},
   "outputs": [
    {
     "data": {
      "text/plain": [
       "'edcb'"
      ]
     },
     "execution_count": 118,
     "metadata": {},
     "output_type": "execute_result"
    }
   ],
   "source": [
    "y"
   ]
  },
  {
   "cell_type": "code",
   "execution_count": 119,
   "id": "e715cbf9",
   "metadata": {},
   "outputs": [],
   "source": [
    "def fact(x):\n",
    "    fact=1\n",
    "    i=1\n",
    "    for i in range(1,x+1):\n",
    "        fact=fact*i\n",
    "    return fact"
   ]
  },
  {
   "cell_type": "code",
   "execution_count": 124,
   "id": "0e8b4ea5",
   "metadata": {},
   "outputs": [
    {
     "data": {
      "text/plain": [
       "1"
      ]
     },
     "execution_count": 124,
     "metadata": {},
     "output_type": "execute_result"
    }
   ],
   "source": [
    "fact(0)"
   ]
  },
  {
   "cell_type": "code",
   "execution_count": 126,
   "id": "458d3b9b",
   "metadata": {},
   "outputs": [
    {
     "name": "stdout",
     "output_type": "stream",
     "text": [
      "0\n",
      "1\n",
      "3\n",
      "6\n",
      "10\n"
     ]
    }
   ],
   "source": [
    "t=0\n",
    "for i in range(0,5):\n",
    "    t=t+i\n",
    "    print(t)"
   ]
  },
  {
   "cell_type": "code",
   "execution_count": 131,
   "id": "b9156ad6",
   "metadata": {},
   "outputs": [
    {
     "name": "stdout",
     "output_type": "stream",
     "text": [
      "0 1 1 2 3 "
     ]
    }
   ],
   "source": [
    "n = 5\n",
    "num1=0\n",
    "num2=1\n",
    "nextnum=num2\n",
    "count=1\n",
    "while count in range(0,n+1):\n",
    "    count +=1\n",
    "    print(num1,end=' ')\n",
    "    nextnum=num1+num2\n",
    "    num1=num2\n",
    "    num2=nextnum"
   ]
  },
  {
   "cell_type": "code",
   "execution_count": 134,
   "id": "63f11b39",
   "metadata": {},
   "outputs": [],
   "source": [
    "def feb(n):\n",
    "    num1=0\n",
    "    num2=1\n",
    "    num3=num2\n",
    "    count = 0\n",
    "    while count in range(0,n+1):\n",
    "        print(num1,end=' ')\n",
    "        num3=num1+num2\n",
    "        num1=num2\n",
    "        num2=num3\n",
    "        count +=1\n",
    "        \n",
    "    "
   ]
  },
  {
   "cell_type": "code",
   "execution_count": 135,
   "id": "cc35d4ee",
   "metadata": {},
   "outputs": [
    {
     "name": "stdout",
     "output_type": "stream",
     "text": [
      "0 1 1 2 3 5 "
     ]
    }
   ],
   "source": [
    "feb(5)"
   ]
  },
  {
   "cell_type": "code",
   "execution_count": 136,
   "id": "498525a2",
   "metadata": {},
   "outputs": [],
   "source": [
    "def num(n):\n",
    "    if n in range(0,10):\n",
    "        print(n)\n",
    "    else:\n",
    "        print('not in range')"
   ]
  },
  {
   "cell_type": "code",
   "execution_count": 137,
   "id": "5525e8d1",
   "metadata": {},
   "outputs": [
    {
     "name": "stdout",
     "output_type": "stream",
     "text": [
      "2\n"
     ]
    }
   ],
   "source": [
    "num(2)"
   ]
  },
  {
   "cell_type": "code",
   "execution_count": 138,
   "id": "6c8bf019",
   "metadata": {},
   "outputs": [
    {
     "name": "stdout",
     "output_type": "stream",
     "text": [
      "not in range\n"
     ]
    }
   ],
   "source": [
    "num(10)"
   ]
  },
  {
   "cell_type": "code",
   "execution_count": 150,
   "id": "74b19476",
   "metadata": {},
   "outputs": [],
   "source": [
    "y='aBcd'"
   ]
  },
  {
   "cell_type": "code",
   "execution_count": 153,
   "id": "3d0b9174",
   "metadata": {},
   "outputs": [
    {
     "data": {
      "text/plain": [
       "True"
      ]
     },
     "execution_count": 153,
     "metadata": {},
     "output_type": "execute_result"
    }
   ],
   "source": [
    "y[1].isupper()\n"
   ]
  },
  {
   "cell_type": "code",
   "execution_count": 157,
   "id": "b8f9a124",
   "metadata": {},
   "outputs": [],
   "source": [
    "def myfun(y):\n",
    "    count1=0\n",
    "    count2=0\n",
    "    for a in range(0,len(y)):\n",
    "        if y[a].isupper():\n",
    "            count1 +=1\n",
    "           \n",
    "        else:\n",
    "            count2 +=1\n",
    "            \n",
    "            \n",
    "    print('Number of upper case letters: ',count1)\n",
    "    print('Number of lower case:',count2)\n",
    "        "
   ]
  },
  {
   "cell_type": "code",
   "execution_count": 158,
   "id": "59739497",
   "metadata": {},
   "outputs": [],
   "source": [
    "y='ABCd'"
   ]
  },
  {
   "cell_type": "code",
   "execution_count": 159,
   "id": "86c2d716",
   "metadata": {},
   "outputs": [
    {
     "name": "stdout",
     "output_type": "stream",
     "text": [
      "Number of upper case letters:  3\n",
      "Number of lower case: 1\n"
     ]
    }
   ],
   "source": [
    "myfun(y)"
   ]
  },
  {
   "cell_type": "code",
   "execution_count": 213,
   "id": "56eb1c81",
   "metadata": {},
   "outputs": [],
   "source": [
    "def myfun(my_list):\n",
    "    even_list = []\n",
    "    for i in my_list:\n",
    "        \n",
    "        if i%2==0:\n",
    "            even_list.append(i)\n",
    "        else:\n",
    "            pass\n",
    "    return even_list\n",
    "    \n",
    "            "
   ]
  },
  {
   "cell_type": "code",
   "execution_count": 214,
   "id": "461eeed3",
   "metadata": {},
   "outputs": [],
   "source": [
    "my_list=[1,2,3,4,5,6]"
   ]
  },
  {
   "cell_type": "code",
   "execution_count": 215,
   "id": "e5a78de6",
   "metadata": {},
   "outputs": [
    {
     "data": {
      "text/plain": [
       "[2, 4, 6]"
      ]
     },
     "execution_count": 215,
     "metadata": {},
     "output_type": "execute_result"
    }
   ],
   "source": [
    "myfun(my_list)"
   ]
  },
  {
   "cell_type": "code",
   "execution_count": 182,
   "id": "dd725f9a",
   "metadata": {},
   "outputs": [],
   "source": [
    "my_list=[1,2,3]"
   ]
  },
  {
   "cell_type": "code",
   "execution_count": 184,
   "id": "1494a9dc",
   "metadata": {},
   "outputs": [],
   "source": [
    "my_list.append(4)"
   ]
  },
  {
   "cell_type": "code",
   "execution_count": 185,
   "id": "d8fbe9a4",
   "metadata": {},
   "outputs": [
    {
     "data": {
      "text/plain": [
       "[1, 2, 3, 4]"
      ]
     },
     "execution_count": 185,
     "metadata": {},
     "output_type": "execute_result"
    }
   ],
   "source": [
    "my_list"
   ]
  },
  {
   "cell_type": "code",
   "execution_count": 203,
   "id": "49015c4b",
   "metadata": {},
   "outputs": [],
   "source": [
    "def myfu(my_list):\n",
    "    mylist2=[]\n",
    "    for i in my_list:\n",
    "        mylist2.append(i)\n",
    "    return mylist2"
   ]
  },
  {
   "cell_type": "code",
   "execution_count": 204,
   "id": "a91c0d14",
   "metadata": {},
   "outputs": [],
   "source": [
    "my_list=[1,2,3]"
   ]
  },
  {
   "cell_type": "code",
   "execution_count": 205,
   "id": "1892f91e",
   "metadata": {},
   "outputs": [
    {
     "data": {
      "text/plain": [
       "[1, 2, 3]"
      ]
     },
     "execution_count": 205,
     "metadata": {},
     "output_type": "execute_result"
    }
   ],
   "source": [
    "myfu(my_list)"
   ]
  },
  {
   "cell_type": "code",
   "execution_count": 218,
   "id": "e9fabb1b",
   "metadata": {},
   "outputs": [],
   "source": [
    "def perfect_number(n):\n",
    "    sum = 0\n",
    "    for x in range(1,n):\n",
    "        if n % x ==0:\n",
    "            sum +=x\n",
    "            \n",
    "    return sum == n"
   ]
  },
  {
   "cell_type": "code",
   "execution_count": 219,
   "id": "4d8c3add",
   "metadata": {},
   "outputs": [
    {
     "data": {
      "text/plain": [
       "True"
      ]
     },
     "execution_count": 219,
     "metadata": {},
     "output_type": "execute_result"
    }
   ],
   "source": [
    "perfect_number(6)"
   ]
  },
  {
   "cell_type": "code",
   "execution_count": 220,
   "id": "56bf4a24",
   "metadata": {},
   "outputs": [
    {
     "data": {
      "text/plain": [
       "False"
      ]
     },
     "execution_count": 220,
     "metadata": {},
     "output_type": "execute_result"
    }
   ],
   "source": [
    "perfect_number(10)"
   ]
  },
  {
   "cell_type": "code",
   "execution_count": 223,
   "id": "2e0f33ba",
   "metadata": {},
   "outputs": [
    {
     "data": {
      "text/plain": [
       "4"
      ]
     },
     "execution_count": 223,
     "metadata": {},
     "output_type": "execute_result"
    }
   ],
   "source": [
    "stri='abcd'\n",
    "len(stri)"
   ]
  },
  {
   "cell_type": "code",
   "execution_count": 269,
   "id": "2048e25c",
   "metadata": {},
   "outputs": [],
   "source": [
    "def myfunc(string):\n",
    "    n=len(string)\n",
    "    j=len(string)\n",
    "    for i in range(0,n):\n",
    "        count=0\n",
    "        if string[i]==string[n-1]:\n",
    "            i+=1\n",
    "            n-=1\n",
    "            count +=1\n",
    "            #print('yes {} is a palindrome'.format(string))\n",
    "            #return string\n",
    "        else:\n",
    "            #print('not a palindrome')\n",
    "            \n",
    "            break\n",
    "            \n",
    "    if count==j:\n",
    "        print(string+ 'is a palindrome')\n",
    "    else:\n",
    "        print(string+'it is not a palindrome')\n",
    "        "
   ]
  },
  {
   "cell_type": "code",
   "execution_count": 270,
   "id": "571af18f",
   "metadata": {},
   "outputs": [],
   "source": [
    "string='madam'"
   ]
  },
  {
   "cell_type": "code",
   "execution_count": 271,
   "id": "2e5628b0",
   "metadata": {},
   "outputs": [
    {
     "name": "stdout",
     "output_type": "stream",
     "text": [
      "madamit is not a palindrome\n"
     ]
    }
   ],
   "source": [
    "myfunc(string)"
   ]
  },
  {
   "cell_type": "code",
   "execution_count": 285,
   "id": "6b4f2932",
   "metadata": {},
   "outputs": [],
   "source": [
    "def myfun(string):\n",
    "    n=len(string)\n",
    "    x=''\n",
    "    for i in range(n-1,-1,-1):\n",
    "        x=x+string[i]\n",
    "        \n",
    "    print(x)    \n",
    "    if string == x:\n",
    "        print(string+' is a palindrome')\n",
    "    else:\n",
    "        print(string+' is not a palindrome')\n",
    "        "
   ]
  },
  {
   "cell_type": "code",
   "execution_count": 286,
   "id": "4d6f9c30",
   "metadata": {},
   "outputs": [],
   "source": [
    "string='madam'"
   ]
  },
  {
   "cell_type": "code",
   "execution_count": 287,
   "id": "d6e117cb",
   "metadata": {},
   "outputs": [
    {
     "name": "stdout",
     "output_type": "stream",
     "text": [
      "madam\n",
      "madam is a palindrome\n"
     ]
    }
   ],
   "source": [
    "myfun('madam')"
   ]
  },
  {
   "cell_type": "code",
   "execution_count": 288,
   "id": "c78e79ac",
   "metadata": {},
   "outputs": [
    {
     "name": "stdout",
     "output_type": "stream",
     "text": [
      "olleh\n",
      "hello is not a palindrome\n"
     ]
    }
   ],
   "source": [
    "myfun('hello')"
   ]
  },
  {
   "cell_type": "code",
   "execution_count": 289,
   "id": "61517ecc",
   "metadata": {},
   "outputs": [
    {
     "name": "stdout",
     "output_type": "stream",
     "text": [
      "varuag\n",
      "gaurav is not a palindrome\n"
     ]
    }
   ],
   "source": [
    "myfun('gaurav')"
   ]
  },
  {
   "cell_type": "code",
   "execution_count": 290,
   "id": "b5641dcd",
   "metadata": {},
   "outputs": [
    {
     "name": "stdout",
     "output_type": "stream",
     "text": [
      "iabballub\n",
      "bullabbai is not a palindrome\n"
     ]
    }
   ],
   "source": [
    "myfun('bullabbai')"
   ]
  },
  {
   "cell_type": "code",
   "execution_count": 291,
   "id": "56a3165c",
   "metadata": {},
   "outputs": [
    {
     "name": "stdout",
     "output_type": "stream",
     "text": [
      "aha\n",
      "aha is a palindrome\n"
     ]
    }
   ],
   "source": [
    "myfun('aha')"
   ]
  },
  {
   "cell_type": "code",
   "execution_count": 298,
   "id": "f8d8ae4b",
   "metadata": {},
   "outputs": [
    {
     "name": "stdout",
     "output_type": "stream",
     "text": [
      "122\n",
      "221\n",
      "num\n"
     ]
    }
   ],
   "source": [
    "n=int(input())\n",
    "temp=n\n",
    "rev=0\n",
    "while temp !=0:\n",
    "    r= temp%10\n",
    "    rev = rev*10+r\n",
    "    temp=int(temp/10)\n",
    "print(rev)\n",
    "if n==rev:\n",
    "    print('number is a palindrome')\n",
    "else:\n",
    "    print('num')"
   ]
  },
  {
   "cell_type": "code",
   "execution_count": 299,
   "id": "4887ccf6",
   "metadata": {},
   "outputs": [],
   "source": [
    "a=10\n",
    "b=15\n",
    "a=a+b\n",
    "b=a-b\n",
    "a=a-b\n"
   ]
  },
  {
   "cell_type": "code",
   "execution_count": 300,
   "id": "275e953c",
   "metadata": {},
   "outputs": [
    {
     "data": {
      "text/plain": [
       "15"
      ]
     },
     "execution_count": 300,
     "metadata": {},
     "output_type": "execute_result"
    }
   ],
   "source": [
    "a\n"
   ]
  },
  {
   "cell_type": "code",
   "execution_count": 301,
   "id": "747a5baa",
   "metadata": {},
   "outputs": [
    {
     "data": {
      "text/plain": [
       "10"
      ]
     },
     "execution_count": 301,
     "metadata": {},
     "output_type": "execute_result"
    }
   ],
   "source": [
    "b"
   ]
  },
  {
   "cell_type": "code",
   "execution_count": 352,
   "id": "da7bdcab",
   "metadata": {},
   "outputs": [],
   "source": [
    "def myfun(p):\n",
    "    count=0\n",
    "    for i in range(1,p):\n",
    "        j=p%i\n",
    "        #print(j)\n",
    "        if j==0:\n",
    "            count +=1\n",
    "        \n",
    "    if count==1:\n",
    "        print(p, \"is a prime number\")\n",
    "    else:\n",
    "        print(p, \"is not a prime number\")\n",
    "    #print(\"count\",count)\n",
    "        "
   ]
  },
  {
   "cell_type": "code",
   "execution_count": 357,
   "id": "458f3e46",
   "metadata": {},
   "outputs": [
    {
     "name": "stdout",
     "output_type": "stream",
     "text": [
      "17 is a prime number\n"
     ]
    }
   ],
   "source": [
    "myfun(17)"
   ]
  },
  {
   "cell_type": "code",
   "execution_count": 385,
   "id": "7804bdd0",
   "metadata": {},
   "outputs": [
    {
     "name": "stdout",
     "output_type": "stream",
     "text": [
      "\n",
      "* \n",
      "* * \n",
      "* * * \n",
      "* * * * \n"
     ]
    }
   ],
   "source": [
    "for i in range(0,5):\n",
    "    for j in range(0,i):\n",
    "        print('*',end=' ')\n",
    "        \n",
    "    print('')"
   ]
  },
  {
   "cell_type": "code",
   "execution_count": 383,
   "id": "404f202b",
   "metadata": {},
   "outputs": [
    {
     "name": "stdout",
     "output_type": "stream",
     "text": [
      "#####\n",
      "####\n",
      "###\n",
      "##\n",
      "#\n"
     ]
    }
   ],
   "source": [
    "for i in range(5,0,-1):\n",
    "    #print('*')\n",
    "    for j in range (i,0,-1):\n",
    "        print('#',end='')\n",
    "    print('')"
   ]
  },
  {
   "cell_type": "code",
   "execution_count": 396,
   "id": "0274e5cf",
   "metadata": {},
   "outputs": [
    {
     "name": "stdout",
     "output_type": "stream",
     "text": [
      "*****\n",
      "****\n",
      "***\n",
      "**\n",
      "*\n"
     ]
    }
   ],
   "source": [
    "for i in range(5,0,-1):\n",
    "    #print('*')\n",
    "    for j in range (0,i):\n",
    "        print('*',end='')\n",
    "    print('')"
   ]
  },
  {
   "cell_type": "code",
   "execution_count": null,
   "id": "a043981d",
   "metadata": {},
   "outputs": [],
   "source": []
  }
 ],
 "metadata": {
  "kernelspec": {
   "display_name": "Python 3 (ipykernel)",
   "language": "python",
   "name": "python3"
  },
  "language_info": {
   "codemirror_mode": {
    "name": "ipython",
    "version": 3
   },
   "file_extension": ".py",
   "mimetype": "text/x-python",
   "name": "python",
   "nbconvert_exporter": "python",
   "pygments_lexer": "ipython3",
   "version": "3.11.5"
  }
 },
 "nbformat": 4,
 "nbformat_minor": 5
}
